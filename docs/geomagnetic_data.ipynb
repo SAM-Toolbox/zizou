{
 "cells": [
  {
   "cell_type": "code",
   "execution_count": null,
   "metadata": {},
   "outputs": [],
   "source": [
    "from zizou.data import WaveformBaseclass\n",
    "from datetime import datetime, date, timedelta\n",
    "import pandas as pd\n",
    "import requests\n",
    "from io import StringIO"
   ]
  },
  {
   "cell_type": "code",
   "execution_count": null,
   "metadata": {},
   "outputs": [],
   "source": [
    "def tilde_request(domain: str, name: str, station: str,\n",
    "                  method: str, sensor: str, aspect: str,\n",
    "                  startdate: date, enddate: date) -> pd.DataFrame:\n",
    "    \"\"\"\n",
    "    Request data from the tilde API (https://tilde.geonet.org.nz/v3/api-docs/).\n",
    "    See the tilde discovery tool for more information:\n",
    "    https://tilde.geonet.org.nz/ui/data-discovery/\n",
    "\n",
    "    Parameters\n",
    "    ----------\n",
    "    domain : str\n",
    "        The domain of the data (e.g. 'manualcollect')\n",
    "    name : str\n",
    "        The name of the data (e.g. 'plume-SO2-gasflux')\n",
    "    station : str\n",
    "        The station code (e.g. 'WI000')\n",
    "    method : str\n",
    "        The method of the data (e.g. 'contouring')\n",
    "    sensor : str\n",
    "        The sensor of the data (e.g. 'MC01')\n",
    "    aspect : str\n",
    "        The aspect of the data (e.g. 'nil')\n",
    "    startdate : date\n",
    "        The start date of the data\n",
    "    enddate : date\n",
    "        The end date of the data\n",
    "\n",
    "    Returns\n",
    "    -------\n",
    "    pd.DataFrame\n",
    "        A pandas dataframe with the requested data\n",
    "    \"\"\"\n",
    "    tilde_url = \"https://tilde.geonet.org.nz/v3/data\"\n",
    "    _tstart = str(startdate)\n",
    "    # split the request into historic and latest data\n",
    "    get_historic = True\n",
    "    _tend = str((enddate - timedelta(days=29)))\n",
    "    if startdate > (enddate - timedelta(days=29)):\n",
    "        get_historic = False\n",
    "\n",
    "    latest = f\"{tilde_url}/{domain}/{station}/{name}/{sensor}/{method}/{aspect}/latest/30d\"\n",
    "    rval = requests.get(latest, headers={'Accept':'text/csv'})\n",
    "    if rval.status_code != 200:\n",
    "        msg = f\"Download of {name} for {station} failed with status code {rval.status_code}\"\n",
    "        msg += f\" and url {latest}\"\n",
    "        raise ValueError(msg)\n",
    "    df_latest = pd.read_csv(StringIO(rval.text), index_col='timestamp', parse_dates=['timestamp'],\n",
    "                            usecols=['timestamp', 'value', 'error'],\n",
    "                            date_format='ISO8601')\n",
    "    if get_historic:\n",
    "        historic = f\"{tilde_url}/{domain}/{station}/{name}/{sensor}/{method}/{aspect}/\"\n",
    "        historic += f\"{_tstart}/{_tend}\"\n",
    "        rval = requests.get(historic, headers={'Accept':'text/csv'})\n",
    "        if rval.status_code != 200:\n",
    "            msg = f\"Download of {name} for {station} failed with status code {rval.status_code}\"\n",
    "            raise ValueError(msg)\n",
    "        data = StringIO(rval.text)\n",
    "        df_historic = pd.read_csv(data, index_col='timestamp', parse_dates=['timestamp'],\n",
    "                                usecols=['timestamp', 'value', 'error'],\n",
    "                                date_format='ISO8601')\n",
    "        if len(df_latest) > 0:\n",
    "            df = df_historic.combine_first(df_latest)\n",
    "        else:\n",
    "            df = df_historic\n",
    "    df.rename(columns={'value': 'obs', 'error': 'err'}, inplace=True)\n",
    "    df.index.name = 'dt'\n",
    "    return df"
   ]
  },
  {
   "cell_type": "code",
   "execution_count": null,
   "metadata": {},
   "outputs": [],
   "source": [
    "tilde_request(domain='geomag', name='magnetic-field', station='EYWM', method='-',\n",
    "              sensor='-', aspect='-', startdate=date(2024, 7, 1), enddate=date(2024, 8, 21))"
   ]
  },
  {
   "cell_type": "code",
   "execution_count": null,
   "metadata": {},
   "outputs": [],
   "source": [
    "class GeoMagWaveforms(WaveformBaseclass):\n",
    "\n",
    "    def __init__(self, base_url, method: str, aspect: str,\n",
    "                 name: str):\n",
    "        self.base_url = base_url\n",
    "        self.method = method\n",
    "        self.aspect = aspect\n",
    "        self.name = name\n",
    "        self.domain = 'geomag'\n",
    "\n",
    "    def get_waveform(self, net: str, site: str, loc: str, comp: str,\n",
    "                     startdate: date, enddate: date) -> pd.DataFrame:\n",
    "        df = tilde_request(domain=self.domain, name=self.name, station=site,\n",
    "                           method=self.method, sensor=loc, aspect=self.aspect,\n",
    "                           startdate=startdate, enddate=enddate)\n",
    "        return df\n",
    "\n",
    "gmc = GeoMagWaveforms(base_url='https://tilde.geonet.org.nz/v3/data',\n",
    "                      method='-', aspect='-', name='magnetic-field')\n",
    "df = gmc.get_waveform(net='', site='EYWM', loc='-', comp='',\n",
    "                      startdate=date(2024, 7, 1), enddate=date(2024, 8, 21))"
   ]
  },
  {
   "cell_type": "code",
   "execution_count": null,
   "metadata": {},
   "outputs": [],
   "source": [
    "from obspy import Trace, UTCDateTime\n",
    "tr = Trace?"
   ]
  },
  {
   "cell_type": "code",
   "execution_count": null,
   "metadata": {},
   "outputs": [],
   "source": [
    "df.shape"
   ]
  },
  {
   "cell_type": "code",
   "execution_count": null,
   "metadata": {},
   "outputs": [],
   "source": []
  }
 ],
 "metadata": {
  "kernelspec": {
   "display_name": "Python 3",
   "language": "python",
   "name": "python3"
  },
  "language_info": {
   "codemirror_mode": {
    "name": "ipython",
    "version": 3
   },
   "file_extension": ".py",
   "mimetype": "text/x-python",
   "name": "python",
   "nbconvert_exporter": "python",
   "pygments_lexer": "ipython3",
   "version": "3.9.19"
  }
 },
 "nbformat": 4,
 "nbformat_minor": 2
}
